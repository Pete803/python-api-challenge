{
 "cells": [
  {
   "cell_type": "markdown",
   "metadata": {},
   "source": [
    "# WeatherPy\n",
    "----\n",
    "\n",
    "#### Note\n",
    "* Instructions have been included for each segment. You do not have to follow them exactly, but they are included to help you think through the steps."
   ]
  },
  {
   "cell_type": "code",
   "execution_count": 59,
   "metadata": {
    "scrolled": true
   },
   "outputs": [],
   "source": [
    "# Dependencies and Setup\n",
    "import matplotlib.pyplot as plt\n",
    "import pandas as pd\n",
    "import numpy as np\n",
    "import requests\n",
    "import time\n",
    "from scipy.stats import linregress\n",
    "from scipy import stats\n",
    "\n",
    "# Import API key\n",
    "from api_keys import weather_api_key\n",
    "\n",
    "# Incorporated citipy to determine city based on latitude and longitude\n",
    "from citipy import citipy\n",
    "\n",
    "# Output File (CSV)\n",
    "output_data_file = \"output_data/cities.csv\"\n",
    "\n",
    "# Range of latitudes and longitudes\n",
    "lat_range = (-90, 90)\n",
    "lng_range = (-180, 180)"
   ]
  },
  {
   "cell_type": "markdown",
   "metadata": {},
   "source": [
    "## Generate Cities List"
   ]
  },
  {
   "cell_type": "code",
   "execution_count": 2,
   "metadata": {},
   "outputs": [
    {
     "data": {
      "text/plain": [
       "629"
      ]
     },
     "execution_count": 2,
     "metadata": {},
     "output_type": "execute_result"
    }
   ],
   "source": [
    "# List for holding lat_lngs and cities\n",
    "lat_lngs = []\n",
    "cities = []\n",
    "\n",
    "# Create a set of random lat and lng combinations\n",
    "lats = np.random.uniform(lat_range[0], lat_range[1], size=1500)\n",
    "lngs = np.random.uniform(lng_range[0], lng_range[1], size=1500)\n",
    "lat_lngs = zip(lats, lngs)\n",
    "\n",
    "# Identify nearest city for each lat, lng combination\n",
    "for lat_lng in lat_lngs:\n",
    "    city = citipy.nearest_city(lat_lng[0], lat_lng[1]).city_name\n",
    "    \n",
    "    # If the city is unique, then add it to a our cities list\n",
    "    if city not in cities:\n",
    "        cities.append(city)\n",
    "\n",
    "# Print the city count to confirm sufficient count\n",
    "len(cities)"
   ]
  },
  {
   "cell_type": "markdown",
   "metadata": {},
   "source": [
    "### Perform API Calls\n",
    "* Perform a weather check on each city using a series of successive API calls.\n",
    "* Include a print log of each city as it's being processed (with the city number and city name).\n",
    "\n"
   ]
  },
  {
   "cell_type": "code",
   "execution_count": 3,
   "metadata": {
    "scrolled": true
   },
   "outputs": [
    {
     "name": "stdout",
     "output_type": "stream",
     "text": [
      "Beginning Data Retrieval     \n",
      "-----------------------------\n",
      "Processing Record 1 of Set 1 | punta arenas\n",
      "Processing Record 2 of Set 1 | sao filipe\n",
      "Processing Record 3 of Set 1 | castro\n",
      "Processing Record 4 of Set 1 | qaanaaq\n",
      "Processing Record 5 of Set 1 | port alfred\n",
      "Processing Record 6 of Set 1 | rikitea\n",
      "Processing Record 7 of Set 1 | butaritari\n",
      "Processing Record 8 of Set 1 | dunedin\n",
      "Processing Record 9 of Set 1 | mataura\n",
      "Processing Record 10 of Set 1 | bellevue\n",
      "Processing Record 11 of Set 1 | mpika\n",
      "Processing Record 12 of Set 1 | albany\n",
      "Processing Record 13 of Set 1 | palmer\n",
      "Processing Record 14 of Set 1 | buala\n",
      "Processing Record 15 of Set 1 | kapaa\n",
      "Processing Record 16 of Set 1 | belushya guba\n",
      "City not found. Skipping...\n",
      "Processing Record 17 of Set 1 | hithadhoo\n",
      "Processing Record 18 of Set 1 | lolua\n",
      "City not found. Skipping...\n",
      "Processing Record 19 of Set 1 | kahului\n",
      "Processing Record 20 of Set 1 | lorengau\n",
      "Processing Record 21 of Set 1 | haines junction\n",
      "Processing Record 22 of Set 1 | inongo\n",
      "Processing Record 23 of Set 1 | fairbanks\n",
      "Processing Record 24 of Set 1 | tura\n",
      "Processing Record 25 of Set 1 | carnarvon\n",
      "Processing Record 26 of Set 1 | hambantota\n",
      "Processing Record 27 of Set 1 | bathsheba\n",
      "Processing Record 28 of Set 1 | jamestown\n",
      "Processing Record 29 of Set 1 | tasiilaq\n",
      "Processing Record 30 of Set 1 | yaita\n",
      "Processing Record 31 of Set 1 | hobart\n",
      "Processing Record 32 of Set 1 | new norfolk\n",
      "Processing Record 33 of Set 1 | mount gambier\n",
      "Processing Record 34 of Set 1 | cape town\n",
      "Processing Record 35 of Set 1 | hami\n",
      "Processing Record 36 of Set 1 | ocos\n",
      "Processing Record 37 of Set 1 | bethel\n",
      "Processing Record 38 of Set 1 | cabatuan\n",
      "Processing Record 39 of Set 1 | dikson\n",
      "Processing Record 40 of Set 1 | mar del plata\n",
      "Processing Record 41 of Set 1 | grand gaube\n",
      "Processing Record 42 of Set 1 | hilo\n",
      "Processing Record 43 of Set 1 | severo-kurilsk\n",
      "Processing Record 44 of Set 1 | mahebourg\n",
      "Processing Record 45 of Set 1 | kodiak\n",
      "Processing Record 46 of Set 1 | bilibino\n",
      "Processing Record 47 of Set 1 | nizhneyansk\n",
      "City not found. Skipping...\n",
      "Processing Record 48 of Set 1 | mankovo-kalitvenskoye\n",
      "City not found. Skipping...\n",
      "Processing Record 49 of Set 1 | meulaboh\n",
      "Processing Record 50 of Set 1 | sun city west\n",
      "Processing Record 0 of Set 2 | busselton\n",
      "Processing Record 1 of Set 2 | college\n",
      "Processing Record 2 of Set 2 | baoro\n",
      "Processing Record 3 of Set 2 | burgeo\n",
      "Processing Record 4 of Set 2 | nikolskoye\n",
      "Processing Record 5 of Set 2 | codrington\n",
      "Processing Record 6 of Set 2 | abalak\n",
      "Processing Record 7 of Set 2 | opuwo\n",
      "Processing Record 8 of Set 2 | cabo san lucas\n",
      "Processing Record 9 of Set 2 | sentyabrskiy\n",
      "City not found. Skipping...\n",
      "Processing Record 10 of Set 2 | po\n",
      "City not found. Skipping...\n",
      "Processing Record 11 of Set 2 | avarua\n",
      "Processing Record 12 of Set 2 | bambous virieux\n",
      "Processing Record 13 of Set 2 | atuona\n",
      "Processing Record 14 of Set 2 | kavieng\n",
      "Processing Record 15 of Set 2 | omagari\n",
      "Processing Record 16 of Set 2 | khatanga\n",
      "Processing Record 17 of Set 2 | bengkulu\n",
      "Processing Record 18 of Set 2 | hermanus\n",
      "Processing Record 19 of Set 2 | vaini\n",
      "Processing Record 20 of Set 2 | luderitz\n",
      "Processing Record 21 of Set 2 | esperance\n",
      "Processing Record 22 of Set 2 | pisco\n",
      "Processing Record 23 of Set 2 | kasempa\n",
      "Processing Record 24 of Set 2 | touros\n",
      "Processing Record 25 of Set 2 | riyadh\n",
      "Processing Record 26 of Set 2 | ponta do sol\n",
      "Processing Record 27 of Set 2 | campbellton\n",
      "Processing Record 28 of Set 2 | gizo\n",
      "Processing Record 29 of Set 2 | bluff\n",
      "Processing Record 30 of Set 2 | muli\n",
      "Processing Record 31 of Set 2 | constitucion\n",
      "Processing Record 32 of Set 2 | ushuaia\n",
      "Processing Record 33 of Set 2 | altoona\n",
      "Processing Record 34 of Set 2 | bud\n",
      "Processing Record 35 of Set 2 | san quintin\n",
      "Processing Record 36 of Set 2 | mankono\n",
      "Processing Record 37 of Set 2 | prince albert\n",
      "Processing Record 38 of Set 2 | conde\n",
      "Processing Record 39 of Set 2 | saint-georges\n",
      "Processing Record 40 of Set 2 | tuktoyaktuk\n",
      "Processing Record 41 of Set 2 | east london\n",
      "Processing Record 42 of Set 2 | kajaani\n",
      "Processing Record 43 of Set 2 | rolla\n",
      "Processing Record 44 of Set 2 | saint-pierre\n",
      "Processing Record 45 of Set 2 | ribeira grande\n",
      "Processing Record 46 of Set 2 | bredasdorp\n",
      "Processing Record 47 of Set 2 | waipawa\n",
      "Processing Record 48 of Set 2 | ganderkesee\n",
      "Processing Record 49 of Set 2 | riverton\n",
      "Processing Record 0 of Set 3 | zeya\n",
      "Processing Record 1 of Set 3 | bardiyah\n",
      "Processing Record 2 of Set 3 | georgetown\n",
      "Processing Record 3 of Set 3 | saint-philippe\n",
      "Processing Record 4 of Set 3 | valparaiso\n",
      "Processing Record 5 of Set 3 | kelowna\n",
      "Processing Record 6 of Set 3 | san ignacio\n",
      "Processing Record 7 of Set 3 | zhangjiakou\n",
      "Processing Record 8 of Set 3 | batemans bay\n",
      "Processing Record 9 of Set 3 | mutsamudu\n",
      "City not found. Skipping...\n",
      "Processing Record 10 of Set 3 | bijar\n",
      "Processing Record 11 of Set 3 | leo\n",
      "Processing Record 12 of Set 3 | fuerte olimpo\n",
      "Processing Record 13 of Set 3 | huarmey\n",
      "Processing Record 14 of Set 3 | dunmore town\n",
      "Processing Record 15 of Set 3 | illoqqortoormiut\n",
      "City not found. Skipping...\n",
      "Processing Record 16 of Set 3 | berlevag\n",
      "Processing Record 17 of Set 3 | mahanje\n",
      "Processing Record 18 of Set 3 | grand river south east\n",
      "City not found. Skipping...\n",
      "Processing Record 19 of Set 3 | turukhansk\n",
      "Processing Record 20 of Set 3 | faanui\n",
      "Processing Record 21 of Set 3 | sabya\n",
      "Processing Record 22 of Set 3 | upernavik\n",
      "Processing Record 23 of Set 3 | ngukurr\n",
      "City not found. Skipping...\n",
      "Processing Record 24 of Set 3 | leh\n",
      "Processing Record 25 of Set 3 | dingle\n",
      "Processing Record 26 of Set 3 | karasburg\n",
      "Processing Record 27 of Set 3 | beldanga\n",
      "Processing Record 28 of Set 3 | iskitim\n",
      "Processing Record 29 of Set 3 | ternate\n",
      "Processing Record 30 of Set 3 | luangwa\n",
      "Processing Record 31 of Set 3 | tuatapere\n",
      "Processing Record 32 of Set 3 | yellowknife\n",
      "Processing Record 33 of Set 3 | anadyr\n",
      "Processing Record 34 of Set 3 | seymchan\n",
      "Processing Record 35 of Set 3 | road town\n",
      "Processing Record 36 of Set 3 | vestmanna\n",
      "Processing Record 37 of Set 3 | torbay\n",
      "Processing Record 38 of Set 3 | roma\n",
      "Processing Record 39 of Set 3 | saldanha\n",
      "Processing Record 40 of Set 3 | pucallpa\n",
      "Processing Record 41 of Set 3 | san patricio\n",
      "Processing Record 42 of Set 3 | kaka\n",
      "Processing Record 43 of Set 3 | dehloran\n",
      "Processing Record 44 of Set 3 | aksu\n",
      "Processing Record 45 of Set 3 | dawson\n",
      "Processing Record 46 of Set 3 | taolanaro\n",
      "City not found. Skipping...\n",
      "Processing Record 47 of Set 3 | malvern\n",
      "Processing Record 48 of Set 3 | chapada dos guimaraes\n",
      "Processing Record 49 of Set 3 | barrow\n",
      "Processing Record 0 of Set 4 | mangochi\n",
      "Processing Record 1 of Set 4 | bubaque\n",
      "Processing Record 2 of Set 4 | uvalde\n",
      "Processing Record 3 of Set 4 | najran\n",
      "Processing Record 4 of Set 4 | clarence town\n",
      "Processing Record 5 of Set 4 | victoria\n",
      "Processing Record 6 of Set 4 | kyren\n",
      "Processing Record 7 of Set 4 | rosetta\n",
      "Processing Record 8 of Set 4 | chuy\n",
      "Processing Record 9 of Set 4 | port hardy\n",
      "Processing Record 10 of Set 4 | narsaq\n",
      "Processing Record 11 of Set 4 | norman wells\n",
      "Processing Record 12 of Set 4 | marion\n",
      "Processing Record 13 of Set 4 | esmeraldas\n",
      "Processing Record 14 of Set 4 | esna\n",
      "Processing Record 15 of Set 4 | ahuimanu\n",
      "Processing Record 16 of Set 4 | olinda\n",
      "Processing Record 17 of Set 4 | coquimbo\n",
      "Processing Record 18 of Set 4 | tamiahua\n",
      "Processing Record 19 of Set 4 | san andres\n",
      "Processing Record 20 of Set 4 | corinto\n",
      "Processing Record 21 of Set 4 | prince rupert\n",
      "Processing Record 22 of Set 4 | businga\n",
      "Processing Record 23 of Set 4 | tangara\n",
      "Processing Record 24 of Set 4 | muisne\n",
      "Processing Record 25 of Set 4 | port macquarie\n",
      "Processing Record 26 of Set 4 | provideniya\n",
      "Processing Record 27 of Set 4 | diu\n",
      "Processing Record 28 of Set 4 | dubrovnik\n",
      "Processing Record 29 of Set 4 | tsihombe\n",
      "City not found. Skipping...\n",
      "Processing Record 30 of Set 4 | nantucket\n",
      "Processing Record 31 of Set 4 | kalabo\n",
      "Processing Record 32 of Set 4 | neuquen\n",
      "Processing Record 33 of Set 4 | silopi\n",
      "Processing Record 34 of Set 4 | saint-augustin\n",
      "Processing Record 35 of Set 4 | kloulklubed\n",
      "Processing Record 36 of Set 4 | arman\n",
      "Processing Record 37 of Set 4 | korla\n",
      "Processing Record 38 of Set 4 | kruisfontein\n",
      "Processing Record 39 of Set 4 | davila\n",
      "Processing Record 40 of Set 4 | podbelsk\n"
     ]
    },
    {
     "name": "stdout",
     "output_type": "stream",
     "text": [
      "City not found. Skipping...\n",
      "Processing Record 41 of Set 4 | bosaso\n",
      "Processing Record 42 of Set 4 | sembe\n",
      "Processing Record 43 of Set 4 | talnakh\n",
      "Processing Record 44 of Set 4 | sobolevo\n",
      "Processing Record 45 of Set 4 | deputatskiy\n",
      "Processing Record 46 of Set 4 | manati\n",
      "Processing Record 47 of Set 4 | cooma\n",
      "Processing Record 48 of Set 4 | aitape\n",
      "Processing Record 49 of Set 4 | oschersleben\n",
      "Processing Record 0 of Set 5 | krasnoye\n",
      "Processing Record 1 of Set 5 | san julian\n",
      "Processing Record 2 of Set 5 | westpunt\n",
      "City not found. Skipping...\n",
      "Processing Record 3 of Set 5 | padilla\n",
      "Processing Record 4 of Set 5 | korgen\n",
      "Processing Record 5 of Set 5 | leshukonskoye\n",
      "Processing Record 6 of Set 5 | lensk\n",
      "Processing Record 7 of Set 5 | dolbeau\n",
      "City not found. Skipping...\n",
      "Processing Record 8 of Set 5 | zabol\n",
      "Processing Record 9 of Set 5 | cairns\n",
      "Processing Record 10 of Set 5 | puerto ayora\n",
      "Processing Record 11 of Set 5 | zhangye\n",
      "Processing Record 12 of Set 5 | mount isa\n",
      "Processing Record 13 of Set 5 | pacific grove\n",
      "Processing Record 14 of Set 5 | sitka\n",
      "Processing Record 15 of Set 5 | poum\n",
      "Processing Record 16 of Set 5 | hamilton\n",
      "Processing Record 17 of Set 5 | eitorf\n",
      "Processing Record 18 of Set 5 | kamenka\n",
      "Processing Record 19 of Set 5 | juneau\n",
      "Processing Record 20 of Set 5 | vanimo\n",
      "Processing Record 21 of Set 5 | motupe\n",
      "Processing Record 22 of Set 5 | tondano\n",
      "Processing Record 23 of Set 5 | armenia\n",
      "Processing Record 24 of Set 5 | palabuhanratu\n",
      "City not found. Skipping...\n",
      "Processing Record 25 of Set 5 | itaqui\n",
      "Processing Record 26 of Set 5 | ngaoundere\n",
      "Processing Record 27 of Set 5 | grindavik\n",
      "Processing Record 28 of Set 5 | beringovskiy\n",
      "Processing Record 29 of Set 5 | oum hadjer\n",
      "Processing Record 30 of Set 5 | atar\n",
      "Processing Record 31 of Set 5 | rocha\n",
      "Processing Record 32 of Set 5 | nouakchott\n",
      "Processing Record 33 of Set 5 | cherskiy\n",
      "Processing Record 34 of Set 5 | union\n",
      "Processing Record 35 of Set 5 | ostrovnoy\n",
      "Processing Record 36 of Set 5 | dabakala\n",
      "Processing Record 37 of Set 5 | west wendover\n",
      "Processing Record 38 of Set 5 | san cristobal\n",
      "Processing Record 39 of Set 5 | fortuna foothills\n",
      "Processing Record 40 of Set 5 | sorong\n",
      "Processing Record 41 of Set 5 | severnyy\n",
      "Processing Record 42 of Set 5 | sainte-savine\n",
      "Processing Record 43 of Set 5 | saint george\n",
      "Processing Record 44 of Set 5 | tual\n",
      "Processing Record 45 of Set 5 | zabaykalsk\n",
      "Processing Record 46 of Set 5 | dzaoudzi\n",
      "Processing Record 47 of Set 5 | cockburn town\n",
      "Processing Record 48 of Set 5 | port-gentil\n",
      "Processing Record 49 of Set 5 | asau\n",
      "Processing Record 0 of Set 6 | portland\n",
      "Processing Record 1 of Set 6 | itarema\n",
      "Processing Record 2 of Set 6 | nortelandia\n",
      "Processing Record 3 of Set 6 | ocosingo\n",
      "Processing Record 4 of Set 6 | pocone\n",
      "Processing Record 5 of Set 6 | vila franca do campo\n",
      "Processing Record 6 of Set 6 | kuching\n",
      "Processing Record 7 of Set 6 | omsukchan\n",
      "Processing Record 8 of Set 6 | pevek\n",
      "Processing Record 9 of Set 6 | kasaoka\n",
      "Processing Record 10 of Set 6 | carutapera\n",
      "Processing Record 11 of Set 6 | ulladulla\n",
      "Processing Record 12 of Set 6 | srednekolymsk\n",
      "Processing Record 13 of Set 6 | adrar\n",
      "Processing Record 14 of Set 6 | koulikoro\n",
      "Processing Record 15 of Set 6 | saleaula\n",
      "City not found. Skipping...\n",
      "Processing Record 16 of Set 6 | lavrentiya\n",
      "Processing Record 17 of Set 6 | tiksi\n",
      "Processing Record 18 of Set 6 | husavik\n",
      "Processing Record 19 of Set 6 | samarinda\n",
      "Processing Record 20 of Set 6 | jeremie\n",
      "Processing Record 21 of Set 6 | vostok\n",
      "Processing Record 22 of Set 6 | iwanai\n",
      "Processing Record 23 of Set 6 | margate\n",
      "Processing Record 24 of Set 6 | hihifo\n",
      "City not found. Skipping...\n",
      "Processing Record 25 of Set 6 | nampula\n",
      "Processing Record 26 of Set 6 | longyearbyen\n",
      "Processing Record 27 of Set 6 | chantada\n",
      "Processing Record 28 of Set 6 | barentsburg\n",
      "City not found. Skipping...\n",
      "Processing Record 29 of Set 6 | tilichiki\n",
      "Processing Record 30 of Set 6 | kalat\n",
      "Processing Record 31 of Set 6 | praya\n",
      "Processing Record 32 of Set 6 | tidore\n",
      "City not found. Skipping...\n",
      "Processing Record 33 of Set 6 | pangoa\n",
      "Processing Record 34 of Set 6 | cayenne\n",
      "Processing Record 35 of Set 6 | clyde river\n",
      "Processing Record 36 of Set 6 | porto walter\n",
      "Processing Record 37 of Set 6 | rawson\n",
      "Processing Record 38 of Set 6 | karauzyak\n",
      "City not found. Skipping...\n",
      "Processing Record 39 of Set 6 | hildesheim\n",
      "Processing Record 40 of Set 6 | teacapan\n",
      "Processing Record 41 of Set 6 | sokoni\n",
      "Processing Record 42 of Set 6 | bilma\n",
      "Processing Record 43 of Set 6 | medzilaborce\n",
      "Processing Record 44 of Set 6 | beloha\n",
      "Processing Record 45 of Set 6 | thompson\n",
      "Processing Record 46 of Set 6 | coromandel\n",
      "Processing Record 47 of Set 6 | bayanday\n",
      "Processing Record 48 of Set 6 | ahipara\n",
      "Processing Record 49 of Set 6 | donskoye\n",
      "Processing Record 0 of Set 7 | khani\n",
      "Processing Record 1 of Set 7 | san juan\n",
      "Processing Record 2 of Set 7 | ancud\n",
      "Processing Record 3 of Set 7 | uyuni\n",
      "Processing Record 4 of Set 7 | sorab\n",
      "Processing Record 5 of Set 7 | kadoma\n",
      "Processing Record 6 of Set 7 | burns lake\n",
      "Processing Record 7 of Set 7 | talah\n",
      "City not found. Skipping...\n",
      "Processing Record 8 of Set 7 | atri\n",
      "Processing Record 9 of Set 7 | elesbao veloso\n",
      "Processing Record 10 of Set 7 | geraldton\n",
      "Processing Record 11 of Set 7 | arlit\n",
      "Processing Record 12 of Set 7 | oistins\n",
      "Processing Record 13 of Set 7 | raudeberg\n",
      "Processing Record 14 of Set 7 | sekoma\n",
      "Processing Record 15 of Set 7 | tessalit\n",
      "Processing Record 16 of Set 7 | tankhoy\n",
      "Processing Record 17 of Set 7 | mahabaleshwar\n",
      "Processing Record 18 of Set 7 | rimouski\n",
      "Processing Record 19 of Set 7 | wahpeton\n",
      "Processing Record 20 of Set 7 | barcelos\n",
      "Processing Record 21 of Set 7 | zambezi\n",
      "Processing Record 22 of Set 7 | auki\n",
      "Processing Record 23 of Set 7 | ust-nera\n",
      "Processing Record 24 of Set 7 | pocatello\n",
      "Processing Record 25 of Set 7 | urengoy\n",
      "Processing Record 26 of Set 7 | lagoa\n",
      "Processing Record 27 of Set 7 | chokurdakh\n",
      "Processing Record 28 of Set 7 | puerto escondido\n",
      "Processing Record 29 of Set 7 | payo\n",
      "Processing Record 30 of Set 7 | luba\n",
      "Processing Record 31 of Set 7 | northam\n",
      "Processing Record 32 of Set 7 | christchurch\n",
      "Processing Record 33 of Set 7 | kiunga\n",
      "Processing Record 34 of Set 7 | barrhead\n",
      "Processing Record 35 of Set 7 | lazaro cardenas\n",
      "Processing Record 36 of Set 7 | kishtwar\n",
      "Processing Record 37 of Set 7 | airai\n",
      "Processing Record 38 of Set 7 | keetmanshoop\n",
      "Processing Record 39 of Set 7 | gorno-chuyskiy\n",
      "City not found. Skipping...\n",
      "Processing Record 40 of Set 7 | wanaka\n",
      "Processing Record 41 of Set 7 | paamiut\n",
      "Processing Record 42 of Set 7 | inverell\n",
      "Processing Record 43 of Set 7 | katsuura\n",
      "Processing Record 44 of Set 7 | hualmay\n",
      "Processing Record 45 of Set 7 | plouzane\n",
      "Processing Record 46 of Set 7 | kanturk\n",
      "Processing Record 47 of Set 7 | yulara\n",
      "Processing Record 48 of Set 7 | sarakhs\n",
      "Processing Record 49 of Set 7 | iqaluit\n",
      "Processing Record 0 of Set 8 | cervo\n",
      "Processing Record 1 of Set 8 | floro\n",
      "Processing Record 2 of Set 8 | lebu\n",
      "Processing Record 3 of Set 8 | qandala\n",
      "Processing Record 4 of Set 8 | dicabisagan\n",
      "Processing Record 5 of Set 8 | matay\n",
      "Processing Record 6 of Set 8 | dwarka\n",
      "Processing Record 7 of Set 8 | leirvik\n",
      "Processing Record 8 of Set 8 | tapes\n",
      "Processing Record 9 of Set 8 | gulmarg\n",
      "Processing Record 10 of Set 8 | kathu\n",
      "Processing Record 11 of Set 8 | urbano santos\n",
      "Processing Record 12 of Set 8 | tautira\n",
      "Processing Record 13 of Set 8 | ormara\n",
      "Processing Record 14 of Set 8 | kinlochleven\n",
      "Processing Record 15 of Set 8 | byron bay\n",
      "Processing Record 16 of Set 8 | port elizabeth\n",
      "Processing Record 17 of Set 8 | rawicz\n",
      "Processing Record 18 of Set 8 | wanning\n",
      "Processing Record 19 of Set 8 | abonnema\n",
      "Processing Record 20 of Set 8 | teya\n",
      "Processing Record 21 of Set 8 | itoman\n",
      "Processing Record 22 of Set 8 | mackay\n",
      "Processing Record 23 of Set 8 | pontes e lacerda\n",
      "Processing Record 24 of Set 8 | pravdinsk\n",
      "Processing Record 25 of Set 8 | rehoboth\n",
      "Processing Record 26 of Set 8 | mys shmidta\n",
      "City not found. Skipping...\n",
      "Processing Record 27 of Set 8 | maceio\n",
      "Processing Record 28 of Set 8 | bindura\n",
      "Processing Record 29 of Set 8 | salinopolis\n",
      "Processing Record 30 of Set 8 | yar-sale\n",
      "Processing Record 31 of Set 8 | khanu woralaksaburi\n",
      "Processing Record 32 of Set 8 | meyungs\n",
      "City not found. Skipping...\n",
      "Processing Record 33 of Set 8 | olutanga\n",
      "Processing Record 34 of Set 8 | santa cecilia\n",
      "Processing Record 35 of Set 8 | leningradskiy\n",
      "Processing Record 36 of Set 8 | roald\n",
      "Processing Record 37 of Set 8 | caravelas\n"
     ]
    },
    {
     "name": "stdout",
     "output_type": "stream",
     "text": [
      "Processing Record 38 of Set 8 | erenhot\n",
      "Processing Record 39 of Set 8 | grand-santi\n",
      "Processing Record 40 of Set 8 | vao\n",
      "Processing Record 41 of Set 8 | hervey bay\n",
      "Processing Record 42 of Set 8 | bushenyi\n",
      "Processing Record 43 of Set 8 | tramore\n",
      "Processing Record 44 of Set 8 | raga\n",
      "Processing Record 45 of Set 8 | paka\n",
      "Processing Record 46 of Set 8 | viedma\n",
      "Processing Record 47 of Set 8 | doctor juan manuel frutos\n",
      "Processing Record 48 of Set 8 | laramie\n",
      "Processing Record 49 of Set 8 | lethem\n",
      "Processing Record 0 of Set 9 | kirakira\n",
      "Processing Record 1 of Set 9 | chachapoyas\n",
      "Processing Record 2 of Set 9 | tabiauea\n",
      "City not found. Skipping...\n",
      "Processing Record 3 of Set 9 | cidreira\n",
      "Processing Record 4 of Set 9 | ucluelet\n",
      "Processing Record 5 of Set 9 | linfen\n",
      "Processing Record 6 of Set 9 | valdosta\n",
      "Processing Record 7 of Set 9 | lompoc\n",
      "Processing Record 8 of Set 9 | cutervo\n",
      "Processing Record 9 of Set 9 | port lincoln\n",
      "Processing Record 10 of Set 9 | srivardhan\n",
      "Processing Record 11 of Set 9 | morrisburg\n",
      "Processing Record 12 of Set 9 | ust-tsilma\n",
      "Processing Record 13 of Set 9 | yerbogachen\n",
      "Processing Record 14 of Set 9 | faxinal\n",
      "Processing Record 15 of Set 9 | fort nelson\n",
      "Processing Record 16 of Set 9 | la quinta\n",
      "Processing Record 17 of Set 9 | karratha\n",
      "Processing Record 18 of Set 9 | teodoro sampaio\n",
      "Processing Record 19 of Set 9 | vardo\n",
      "Processing Record 20 of Set 9 | palasa\n",
      "Processing Record 21 of Set 9 | alexandria\n",
      "Processing Record 22 of Set 9 | ostersund\n",
      "Processing Record 23 of Set 9 | tiznit\n",
      "Processing Record 24 of Set 9 | ust-kamchatsk\n",
      "City not found. Skipping...\n",
      "Processing Record 25 of Set 9 | hofn\n",
      "Processing Record 26 of Set 9 | dzhusaly\n",
      "City not found. Skipping...\n",
      "Processing Record 27 of Set 9 | sabang\n",
      "Processing Record 28 of Set 9 | masallatah\n",
      "Processing Record 29 of Set 9 | sivaki\n",
      "Processing Record 30 of Set 9 | flinders\n",
      "Processing Record 31 of Set 9 | los llanos de aridane\n",
      "Processing Record 32 of Set 9 | asosa\n",
      "Processing Record 33 of Set 9 | minot\n",
      "Processing Record 34 of Set 9 | sambava\n",
      "Processing Record 35 of Set 9 | thinadhoo\n",
      "Processing Record 36 of Set 9 | mitsamiouli\n",
      "Processing Record 37 of Set 9 | bargal\n",
      "City not found. Skipping...\n",
      "Processing Record 38 of Set 9 | nemuro\n",
      "Processing Record 39 of Set 9 | gorontalo\n",
      "Processing Record 40 of Set 9 | palora\n",
      "Processing Record 41 of Set 9 | eidsvag\n",
      "Processing Record 42 of Set 9 | wajir\n",
      "Processing Record 43 of Set 9 | araouane\n",
      "Processing Record 44 of Set 9 | mehamn\n",
      "Processing Record 45 of Set 9 | santiago del estero\n",
      "Processing Record 46 of Set 9 | hirara\n",
      "Processing Record 47 of Set 9 | vallenar\n",
      "Processing Record 48 of Set 9 | port said\n",
      "Processing Record 49 of Set 9 | kolpashevo\n",
      "Processing Record 0 of Set 10 | orlik\n",
      "Processing Record 1 of Set 10 | antofagasta\n",
      "Processing Record 2 of Set 10 | rapid valley\n",
      "Processing Record 3 of Set 10 | ewa beach\n",
      "Processing Record 4 of Set 10 | manta\n",
      "Processing Record 5 of Set 10 | shibetsu\n",
      "Processing Record 6 of Set 10 | ampanihy\n",
      "Processing Record 7 of Set 10 | bokspits\n",
      "City not found. Skipping...\n",
      "Processing Record 8 of Set 10 | isangel\n",
      "Processing Record 9 of Set 10 | sur\n",
      "Processing Record 10 of Set 10 | kaitangata\n",
      "Processing Record 11 of Set 10 | hailey\n",
      "Processing Record 12 of Set 10 | hanzhong\n",
      "Processing Record 13 of Set 10 | bandarbeyla\n",
      "Processing Record 14 of Set 10 | tawnat\n",
      "City not found. Skipping...\n",
      "Processing Record 15 of Set 10 | broken hill\n",
      "Processing Record 16 of Set 10 | kununurra\n",
      "Processing Record 17 of Set 10 | pochutla\n",
      "Processing Record 18 of Set 10 | canto do buriti\n",
      "Processing Record 19 of Set 10 | madison heights\n",
      "Processing Record 20 of Set 10 | la ronge\n",
      "Processing Record 21 of Set 10 | burica\n",
      "City not found. Skipping...\n",
      "Processing Record 22 of Set 10 | camabatela\n",
      "Processing Record 23 of Set 10 | tottori\n",
      "Processing Record 24 of Set 10 | ossora\n",
      "Processing Record 25 of Set 10 | paita\n",
      "Processing Record 26 of Set 10 | egvekinot\n",
      "Processing Record 27 of Set 10 | semey\n",
      "Processing Record 28 of Set 10 | requena\n",
      "Processing Record 29 of Set 10 | shahr-e babak\n",
      "Processing Record 30 of Set 10 | haikou\n",
      "Processing Record 31 of Set 10 | bombay\n",
      "Processing Record 32 of Set 10 | guerrero negro\n",
      "Processing Record 33 of Set 10 | port dover\n",
      "Processing Record 34 of Set 10 | aksarka\n",
      "Processing Record 35 of Set 10 | thanh hoa\n",
      "Processing Record 36 of Set 10 | sedniv\n",
      "Processing Record 37 of Set 10 | carballo\n",
      "Processing Record 38 of Set 10 | aurillac\n",
      "Processing Record 39 of Set 10 | marawi\n",
      "Processing Record 40 of Set 10 | karaul\n",
      "City not found. Skipping...\n",
      "Processing Record 41 of Set 10 | senanga\n",
      "Processing Record 42 of Set 10 | liyang\n",
      "Processing Record 43 of Set 10 | umm durman\n",
      "City not found. Skipping...\n",
      "Processing Record 44 of Set 10 | nadym\n",
      "Processing Record 45 of Set 10 | saskylakh\n",
      "Processing Record 46 of Set 10 | vila velha\n",
      "Processing Record 47 of Set 10 | ati\n",
      "Processing Record 48 of Set 10 | hovd\n",
      "Processing Record 49 of Set 10 | hurghada\n",
      "Processing Record 0 of Set 11 | longlac\n",
      "City not found. Skipping...\n",
      "Processing Record 1 of Set 11 | goderich\n",
      "Processing Record 2 of Set 11 | yemtsa\n",
      "Processing Record 3 of Set 11 | ijaki\n",
      "City not found. Skipping...\n",
      "Processing Record 4 of Set 11 | challans\n",
      "Processing Record 5 of Set 11 | rolim de moura\n",
      "City not found. Skipping...\n",
      "Processing Record 6 of Set 11 | chipinge\n",
      "Processing Record 7 of Set 11 | jackson\n",
      "Processing Record 8 of Set 11 | tasbuget\n",
      "City not found. Skipping...\n",
      "Processing Record 9 of Set 11 | ambikapur\n",
      "Processing Record 10 of Set 11 | arraial do cabo\n",
      "Processing Record 11 of Set 11 | nanortalik\n",
      "Processing Record 12 of Set 11 | sorland\n",
      "Processing Record 13 of Set 11 | humaita\n",
      "Processing Record 14 of Set 11 | rincon\n",
      "Processing Record 15 of Set 11 | avera\n",
      "Processing Record 16 of Set 11 | erzin\n",
      "Processing Record 17 of Set 11 | marietta\n",
      "Processing Record 18 of Set 11 | nchelenge\n",
      "Processing Record 19 of Set 11 | hay river\n",
      "Processing Record 20 of Set 11 | tarakan\n",
      "Processing Record 21 of Set 11 | sigli\n",
      "Processing Record 22 of Set 11 | la palma\n",
      "Processing Record 23 of Set 11 | solovetskiy\n",
      "City not found. Skipping...\n",
      "Processing Record 24 of Set 11 | svarstad\n",
      "Processing Record 25 of Set 11 | pangnirtung\n",
      "Processing Record 26 of Set 11 | amapa\n",
      "Processing Record 27 of Set 11 | uige\n",
      "Processing Record 28 of Set 11 | amderma\n",
      "City not found. Skipping...\n",
      "Processing Record 29 of Set 11 | khash\n",
      "Processing Record 30 of Set 11 | zhezkazgan\n",
      "Processing Record 31 of Set 11 | xining\n",
      "Processing Record 32 of Set 11 | angoram\n",
      "Processing Record 33 of Set 11 | uyemskiy\n",
      "Processing Record 34 of Set 11 | buchanan\n",
      "Processing Record 35 of Set 11 | namatanai\n",
      "Processing Record 36 of Set 11 | kavaratti\n",
      "Processing Record 37 of Set 11 | pokrovskoye\n",
      "Processing Record 38 of Set 11 | waddan\n",
      "Processing Record 39 of Set 11 | ixtapa\n",
      "Processing Record 40 of Set 11 | san francisco\n",
      "Processing Record 41 of Set 11 | lasa\n",
      "Processing Record 42 of Set 11 | daitari\n",
      "Processing Record 43 of Set 11 | duzce\n",
      "Processing Record 44 of Set 11 | bucerias\n",
      "Processing Record 45 of Set 11 | mao\n",
      "Processing Record 46 of Set 11 | fortuna\n",
      "Processing Record 47 of Set 11 | necochea\n",
      "Processing Record 48 of Set 11 | puerto baquerizo moreno\n",
      "Processing Record 49 of Set 11 | osypenko\n",
      "Processing Record 0 of Set 12 | kushima\n",
      "Processing Record 1 of Set 12 | muros\n",
      "Processing Record 2 of Set 12 | ketchikan\n",
      "Processing Record 3 of Set 12 | bowen\n",
      "Processing Record 4 of Set 12 | sayaxche\n",
      "Processing Record 5 of Set 12 | monrovia\n",
      "Processing Record 6 of Set 12 | samalaeulu\n",
      "City not found. Skipping...\n",
      "Processing Record 7 of Set 12 | gamba\n",
      "Processing Record 8 of Set 12 | mumford\n",
      "Processing Record 9 of Set 12 | savalou\n",
      "Processing Record 10 of Set 12 | coahuayana\n",
      "Processing Record 11 of Set 12 | quatre cocos\n",
      "Processing Record 12 of Set 12 | douglas\n",
      "Processing Record 13 of Set 12 | batagay-alyta\n",
      "Processing Record 14 of Set 12 | ibotirama\n",
      "Processing Record 15 of Set 12 | ulaangom\n",
      "Processing Record 16 of Set 12 | imbituba\n",
      "Processing Record 17 of Set 12 | vaitupu\n",
      "City not found. Skipping...\n",
      "Processing Record 18 of Set 12 | jining\n",
      "Processing Record 19 of Set 12 | waingapu\n",
      "Processing Record 20 of Set 12 | westport\n",
      "Processing Record 21 of Set 12 | hirata\n",
      "Processing Record 22 of Set 12 | skelleftea\n",
      "Processing Record 23 of Set 12 | belmonte\n",
      "Processing Record 24 of Set 12 | parakai\n",
      "Processing Record 25 of Set 12 | maridi\n"
     ]
    },
    {
     "name": "stdout",
     "output_type": "stream",
     "text": [
      "Processing Record 26 of Set 12 | shipley\n",
      "Processing Record 27 of Set 12 | samusu\n",
      "City not found. Skipping...\n",
      "Processing Record 28 of Set 12 | launceston\n",
      "Processing Record 29 of Set 12 | stornoway\n",
      "Processing Record 30 of Set 12 | tame\n",
      "Processing Record 31 of Set 12 | bulgan\n",
      "Processing Record 32 of Set 12 | hasaki\n",
      "Processing Record 33 of Set 12 | liberal\n",
      "Processing Record 34 of Set 12 | negombo\n",
      "Processing Record 35 of Set 12 | qasigiannguit\n",
      "Processing Record 36 of Set 12 | zhigansk\n",
      "Processing Record 37 of Set 12 | fare\n",
      "Processing Record 38 of Set 12 | eureka\n",
      "Processing Record 39 of Set 12 | mola di bari\n",
      "Processing Record 40 of Set 12 | sarab\n",
      "Processing Record 41 of Set 12 | padang\n",
      "Processing Record 42 of Set 12 | bambanglipuro\n",
      "Processing Record 43 of Set 12 | basco\n",
      "Processing Record 44 of Set 12 | mosetse\n",
      "Processing Record 45 of Set 12 | buariki\n",
      "City not found. Skipping...\n",
      "Processing Record 46 of Set 12 | grand centre\n",
      "City not found. Skipping...\n",
      "Processing Record 47 of Set 12 | tombouctou\n",
      "Processing Record 48 of Set 12 | bentiu\n",
      "Processing Record 49 of Set 12 | rassvet\n",
      "Processing Record 0 of Set 13 | great falls\n",
      "Processing Record 1 of Set 13 | beberibe\n",
      "Processing Record 2 of Set 13 | kabo\n",
      "Processing Record 3 of Set 13 | tiarei\n",
      "Processing Record 4 of Set 13 | desbiens\n",
      "Processing Record 5 of Set 13 | rojhan\n",
      "Processing Record 6 of Set 13 | phangnga\n",
      "Processing Record 7 of Set 13 | wasilla\n",
      "Processing Record 8 of Set 13 | mizan teferi\n",
      "Processing Record 9 of Set 13 | kangalassy\n",
      "Processing Record 10 of Set 13 | setermoen\n",
      "Processing Record 11 of Set 13 | taltal\n",
      "Processing Record 12 of Set 13 | naze\n",
      "Processing Record 13 of Set 13 | charters towers\n",
      "Processing Record 14 of Set 13 | gambiran\n",
      "Processing Record 15 of Set 13 | simdega\n",
      "Processing Record 16 of Set 13 | makakilo city\n",
      "Processing Record 17 of Set 13 | great bend\n",
      "Processing Record 18 of Set 13 | emerald\n",
      "Processing Record 19 of Set 13 | the valley\n",
      "Processing Record 20 of Set 13 | marystown\n",
      "Processing Record 21 of Set 13 | petropavlovsk-kamchatskiy\n",
      "Processing Record 22 of Set 13 | ilulissat\n",
      "Processing Record 23 of Set 13 | north platte\n",
      "Processing Record 24 of Set 13 | klaksvik\n",
      "Processing Record 25 of Set 13 | sao felix do xingu\n",
      "Processing Record 26 of Set 13 | sakaraha\n",
      "Processing Record 27 of Set 13 | ugoofaaru\n",
      "Processing Record 28 of Set 13 | chama\n",
      "-----------------------------\n",
      "Data Retrieval Complete      \n",
      "-----------------------------\n"
     ]
    }
   ],
   "source": [
    "# Weather Map API Call\n",
    "url = \"http://api.openweathermap.org/data/2.5/weather?units=Imperial&APPID=\" + weather_api_key\n",
    "\n",
    "# List of city data\n",
    "city_data = []\n",
    "\n",
    "# Print to logger\n",
    "print(\"Beginning Data Retrieval     \")\n",
    "print(\"-----------------------------\")\n",
    "\n",
    "# Create counters\n",
    "record_count = 1\n",
    "set_count = 1\n",
    "\n",
    "# Loop through cities in list\n",
    "for c, city in enumerate(cities):\n",
    "        \n",
    "    # Group cities in sets of 50\n",
    "    if (c % 50 == 0 and c >= 50):\n",
    "        set_count += 1\n",
    "        record_count = 0\n",
    "\n",
    "    # Create endpoint URL for city\n",
    "    city_url = url + \"&q=\" + city\n",
    "    \n",
    "    # Log the url, record, and set numbers\n",
    "    print(\"Processing Record %s of Set %s | %s\" % (record_count, set_count, city))\n",
    "\n",
    "    # Add 1 to the record count\n",
    "    record_count += 1\n",
    "\n",
    "    # Run API request for each city\n",
    "    try:\n",
    "        # Parse JSON & retrieve data\n",
    "        city_weather = requests.get(city_url).json()\n",
    "\n",
    "        # Parse out the max temp, humidity, and cloudiness\n",
    "        city_lat = city_weather[\"coord\"][\"lat\"]\n",
    "        city_lng = city_weather[\"coord\"][\"lon\"]\n",
    "        city_max_temp = city_weather[\"main\"][\"temp_max\"]\n",
    "        city_humidity = city_weather[\"main\"][\"humidity\"]\n",
    "        city_clouds = city_weather[\"clouds\"][\"all\"]\n",
    "        city_wind = city_weather[\"wind\"][\"speed\"]\n",
    "        city_country = city_weather[\"sys\"][\"country\"]\n",
    "        city_date = city_weather[\"dt\"]\n",
    "\n",
    "        # Append the City information into city_data list\n",
    "        city_data.append({\"City\": city, \n",
    "                          \"Lat\": city_lat, \n",
    "                          \"Lng\": city_lng, \n",
    "                          \"Max Temp\": city_max_temp,\n",
    "                          \"Humidity\": city_humidity,\n",
    "                          \"Cloudiness\": city_clouds,\n",
    "                          \"Wind Speed\": city_wind,\n",
    "                          \"Country\": city_country,\n",
    "                          \"Date\": city_date})\n",
    "\n",
    "    # skip not found errors\n",
    "    except:\n",
    "        print(\"City not found. Skipping...\")\n",
    "        pass\n",
    "              \n",
    "# Indicate complete \n",
    "print(\"-----------------------------\")\n",
    "print(\"Data Retrieval Complete      \")\n",
    "print(\"-----------------------------\")"
   ]
  },
  {
   "cell_type": "markdown",
   "metadata": {},
   "source": [
    "### Convert Raw Data to DataFrame\n",
    "* Export the city data into a .csv.\n",
    "* Display the DataFrame"
   ]
  },
  {
   "cell_type": "code",
   "execution_count": 10,
   "metadata": {},
   "outputs": [
    {
     "data": {
      "text/html": [
       "<div>\n",
       "<style scoped>\n",
       "    .dataframe tbody tr th:only-of-type {\n",
       "        vertical-align: middle;\n",
       "    }\n",
       "\n",
       "    .dataframe tbody tr th {\n",
       "        vertical-align: top;\n",
       "    }\n",
       "\n",
       "    .dataframe thead th {\n",
       "        text-align: right;\n",
       "    }\n",
       "</style>\n",
       "<table border=\"1\" class=\"dataframe\">\n",
       "  <thead>\n",
       "    <tr style=\"text-align: right;\">\n",
       "      <th></th>\n",
       "      <th>City</th>\n",
       "      <th>Lat</th>\n",
       "      <th>Lng</th>\n",
       "      <th>Max Temp</th>\n",
       "      <th>Humidity</th>\n",
       "      <th>Cloudiness</th>\n",
       "      <th>Wind Speed</th>\n",
       "      <th>Country</th>\n",
       "      <th>Date</th>\n",
       "    </tr>\n",
       "  </thead>\n",
       "  <tbody>\n",
       "    <tr>\n",
       "      <th>0</th>\n",
       "      <td>punta arenas</td>\n",
       "      <td>-53.1500</td>\n",
       "      <td>-70.9167</td>\n",
       "      <td>55.40</td>\n",
       "      <td>54</td>\n",
       "      <td>40</td>\n",
       "      <td>16.11</td>\n",
       "      <td>CL</td>\n",
       "      <td>1610116747</td>\n",
       "    </tr>\n",
       "    <tr>\n",
       "      <th>1</th>\n",
       "      <td>sao filipe</td>\n",
       "      <td>14.8961</td>\n",
       "      <td>-24.4956</td>\n",
       "      <td>75.60</td>\n",
       "      <td>77</td>\n",
       "      <td>2</td>\n",
       "      <td>16.26</td>\n",
       "      <td>CV</td>\n",
       "      <td>1610116747</td>\n",
       "    </tr>\n",
       "    <tr>\n",
       "      <th>2</th>\n",
       "      <td>castro</td>\n",
       "      <td>-24.7911</td>\n",
       "      <td>-50.0119</td>\n",
       "      <td>75.04</td>\n",
       "      <td>81</td>\n",
       "      <td>39</td>\n",
       "      <td>4.72</td>\n",
       "      <td>BR</td>\n",
       "      <td>1610116747</td>\n",
       "    </tr>\n",
       "    <tr>\n",
       "      <th>3</th>\n",
       "      <td>qaanaaq</td>\n",
       "      <td>77.4840</td>\n",
       "      <td>-69.3632</td>\n",
       "      <td>-3.80</td>\n",
       "      <td>87</td>\n",
       "      <td>100</td>\n",
       "      <td>13.60</td>\n",
       "      <td>GL</td>\n",
       "      <td>1610116747</td>\n",
       "    </tr>\n",
       "    <tr>\n",
       "      <th>4</th>\n",
       "      <td>port alfred</td>\n",
       "      <td>-33.5906</td>\n",
       "      <td>26.8910</td>\n",
       "      <td>75.99</td>\n",
       "      <td>82</td>\n",
       "      <td>65</td>\n",
       "      <td>1.99</td>\n",
       "      <td>ZA</td>\n",
       "      <td>1610116565</td>\n",
       "    </tr>\n",
       "  </tbody>\n",
       "</table>\n",
       "</div>"
      ],
      "text/plain": [
       "           City      Lat      Lng  Max Temp  Humidity  Cloudiness  Wind Speed  \\\n",
       "0  punta arenas -53.1500 -70.9167     55.40        54          40       16.11   \n",
       "1    sao filipe  14.8961 -24.4956     75.60        77           2       16.26   \n",
       "2        castro -24.7911 -50.0119     75.04        81          39        4.72   \n",
       "3       qaanaaq  77.4840 -69.3632     -3.80        87         100       13.60   \n",
       "4   port alfred -33.5906  26.8910     75.99        82          65        1.99   \n",
       "\n",
       "  Country        Date  \n",
       "0      CL  1610116747  \n",
       "1      CV  1610116747  \n",
       "2      BR  1610116747  \n",
       "3      GL  1610116747  \n",
       "4      ZA  1610116565  "
      ]
     },
     "execution_count": 10,
     "metadata": {},
     "output_type": "execute_result"
    }
   ],
   "source": [
    "# display data frame\n",
    "city_data_df = pd.DataFrame(city_data)\n",
    "city_data_df.head()"
   ]
  },
  {
   "cell_type": "code",
   "execution_count": 11,
   "metadata": {},
   "outputs": [],
   "source": [
    "# Export the city data into a .csv\n",
    "city_data_df.to_csv('city_data.csv')"
   ]
  },
  {
   "cell_type": "markdown",
   "metadata": {},
   "source": [
    "## Inspect the data and remove the cities where the humidity > 100%.\n",
    "----\n",
    "Skip this step if there are no cities that have humidity > 100%. "
   ]
  },
  {
   "cell_type": "code",
   "execution_count": 18,
   "metadata": {},
   "outputs": [
    {
     "data": {
      "text/plain": [
       "100"
      ]
     },
     "execution_count": 18,
     "metadata": {},
     "output_type": "execute_result"
    }
   ],
   "source": [
    "#  Get the indices of cities that have humidity over 100%.\n",
    "humidity_max = city_data_df[\"Humidity\"].max()\n",
    "humidity_max"
   ]
  },
  {
   "cell_type": "code",
   "execution_count": 19,
   "metadata": {},
   "outputs": [
    {
     "data": {
      "text/html": [
       "<div>\n",
       "<style scoped>\n",
       "    .dataframe tbody tr th:only-of-type {\n",
       "        vertical-align: middle;\n",
       "    }\n",
       "\n",
       "    .dataframe tbody tr th {\n",
       "        vertical-align: top;\n",
       "    }\n",
       "\n",
       "    .dataframe thead th {\n",
       "        text-align: right;\n",
       "    }\n",
       "</style>\n",
       "<table border=\"1\" class=\"dataframe\">\n",
       "  <thead>\n",
       "    <tr style=\"text-align: right;\">\n",
       "      <th></th>\n",
       "      <th>City</th>\n",
       "      <th>Lat</th>\n",
       "      <th>Lng</th>\n",
       "      <th>Max Temp</th>\n",
       "      <th>Humidity</th>\n",
       "      <th>Cloudiness</th>\n",
       "      <th>Wind Speed</th>\n",
       "      <th>Country</th>\n",
       "      <th>Date</th>\n",
       "    </tr>\n",
       "  </thead>\n",
       "  <tbody>\n",
       "    <tr>\n",
       "      <th>0</th>\n",
       "      <td>punta arenas</td>\n",
       "      <td>-53.1500</td>\n",
       "      <td>-70.9167</td>\n",
       "      <td>55.40</td>\n",
       "      <td>54</td>\n",
       "      <td>40</td>\n",
       "      <td>16.11</td>\n",
       "      <td>CL</td>\n",
       "      <td>1610116747</td>\n",
       "    </tr>\n",
       "    <tr>\n",
       "      <th>1</th>\n",
       "      <td>sao filipe</td>\n",
       "      <td>14.8961</td>\n",
       "      <td>-24.4956</td>\n",
       "      <td>75.60</td>\n",
       "      <td>77</td>\n",
       "      <td>2</td>\n",
       "      <td>16.26</td>\n",
       "      <td>CV</td>\n",
       "      <td>1610116747</td>\n",
       "    </tr>\n",
       "    <tr>\n",
       "      <th>2</th>\n",
       "      <td>castro</td>\n",
       "      <td>-24.7911</td>\n",
       "      <td>-50.0119</td>\n",
       "      <td>75.04</td>\n",
       "      <td>81</td>\n",
       "      <td>39</td>\n",
       "      <td>4.72</td>\n",
       "      <td>BR</td>\n",
       "      <td>1610116747</td>\n",
       "    </tr>\n",
       "    <tr>\n",
       "      <th>3</th>\n",
       "      <td>qaanaaq</td>\n",
       "      <td>77.4840</td>\n",
       "      <td>-69.3632</td>\n",
       "      <td>-3.80</td>\n",
       "      <td>87</td>\n",
       "      <td>100</td>\n",
       "      <td>13.60</td>\n",
       "      <td>GL</td>\n",
       "      <td>1610116747</td>\n",
       "    </tr>\n",
       "    <tr>\n",
       "      <th>4</th>\n",
       "      <td>port alfred</td>\n",
       "      <td>-33.5906</td>\n",
       "      <td>26.8910</td>\n",
       "      <td>75.99</td>\n",
       "      <td>82</td>\n",
       "      <td>65</td>\n",
       "      <td>1.99</td>\n",
       "      <td>ZA</td>\n",
       "      <td>1610116565</td>\n",
       "    </tr>\n",
       "    <tr>\n",
       "      <th>...</th>\n",
       "      <td>...</td>\n",
       "      <td>...</td>\n",
       "      <td>...</td>\n",
       "      <td>...</td>\n",
       "      <td>...</td>\n",
       "      <td>...</td>\n",
       "      <td>...</td>\n",
       "      <td>...</td>\n",
       "      <td>...</td>\n",
       "    </tr>\n",
       "    <tr>\n",
       "      <th>579</th>\n",
       "      <td>klaksvik</td>\n",
       "      <td>62.2266</td>\n",
       "      <td>-6.5890</td>\n",
       "      <td>39.20</td>\n",
       "      <td>93</td>\n",
       "      <td>75</td>\n",
       "      <td>17.27</td>\n",
       "      <td>FO</td>\n",
       "      <td>1610116788</td>\n",
       "    </tr>\n",
       "    <tr>\n",
       "      <th>580</th>\n",
       "      <td>sao felix do xingu</td>\n",
       "      <td>-6.6447</td>\n",
       "      <td>-51.9950</td>\n",
       "      <td>93.31</td>\n",
       "      <td>45</td>\n",
       "      <td>94</td>\n",
       "      <td>1.43</td>\n",
       "      <td>BR</td>\n",
       "      <td>1610116789</td>\n",
       "    </tr>\n",
       "    <tr>\n",
       "      <th>581</th>\n",
       "      <td>sakaraha</td>\n",
       "      <td>-22.9000</td>\n",
       "      <td>44.5333</td>\n",
       "      <td>84.16</td>\n",
       "      <td>52</td>\n",
       "      <td>50</td>\n",
       "      <td>13.24</td>\n",
       "      <td>MG</td>\n",
       "      <td>1610116789</td>\n",
       "    </tr>\n",
       "    <tr>\n",
       "      <th>582</th>\n",
       "      <td>ugoofaaru</td>\n",
       "      <td>5.6667</td>\n",
       "      <td>73.0000</td>\n",
       "      <td>83.25</td>\n",
       "      <td>73</td>\n",
       "      <td>100</td>\n",
       "      <td>3.06</td>\n",
       "      <td>MV</td>\n",
       "      <td>1610116789</td>\n",
       "    </tr>\n",
       "    <tr>\n",
       "      <th>583</th>\n",
       "      <td>chama</td>\n",
       "      <td>47.1821</td>\n",
       "      <td>8.4636</td>\n",
       "      <td>35.60</td>\n",
       "      <td>64</td>\n",
       "      <td>20</td>\n",
       "      <td>3.44</td>\n",
       "      <td>CH</td>\n",
       "      <td>1610116705</td>\n",
       "    </tr>\n",
       "  </tbody>\n",
       "</table>\n",
       "<p>568 rows × 9 columns</p>\n",
       "</div>"
      ],
      "text/plain": [
       "                   City      Lat      Lng  Max Temp  Humidity  Cloudiness  \\\n",
       "0          punta arenas -53.1500 -70.9167     55.40        54          40   \n",
       "1            sao filipe  14.8961 -24.4956     75.60        77           2   \n",
       "2                castro -24.7911 -50.0119     75.04        81          39   \n",
       "3               qaanaaq  77.4840 -69.3632     -3.80        87         100   \n",
       "4           port alfred -33.5906  26.8910     75.99        82          65   \n",
       "..                  ...      ...      ...       ...       ...         ...   \n",
       "579            klaksvik  62.2266  -6.5890     39.20        93          75   \n",
       "580  sao felix do xingu  -6.6447 -51.9950     93.31        45          94   \n",
       "581            sakaraha -22.9000  44.5333     84.16        52          50   \n",
       "582           ugoofaaru   5.6667  73.0000     83.25        73         100   \n",
       "583               chama  47.1821   8.4636     35.60        64          20   \n",
       "\n",
       "     Wind Speed Country        Date  \n",
       "0         16.11      CL  1610116747  \n",
       "1         16.26      CV  1610116747  \n",
       "2          4.72      BR  1610116747  \n",
       "3         13.60      GL  1610116747  \n",
       "4          1.99      ZA  1610116565  \n",
       "..          ...     ...         ...  \n",
       "579       17.27      FO  1610116788  \n",
       "580        1.43      BR  1610116789  \n",
       "581       13.24      MG  1610116789  \n",
       "582        3.06      MV  1610116789  \n",
       "583        3.44      CH  1610116705  \n",
       "\n",
       "[568 rows x 9 columns]"
      ]
     },
     "execution_count": 19,
     "metadata": {},
     "output_type": "execute_result"
    }
   ],
   "source": [
    "# Make a new DataFrame equal to the city data to drop all humidity outliers by index.\n",
    "# Passing \"inplace=False\" will make a copy of the city_data DataFrame, which we call \"clean_city_data\".\n",
    "\n",
    "clean_city_data = city_data_df[city_data_df.Humidity < 100]\n",
    "clean_city_data"
   ]
  },
  {
   "cell_type": "markdown",
   "metadata": {},
   "source": [
    "## Plotting the Data\n",
    "* Use proper labeling of the plots using plot titles (including date of analysis) and axes labels.\n",
    "* Save the plotted figures as .pngs."
   ]
  },
  {
   "cell_type": "markdown",
   "metadata": {},
   "source": [
    "## Latitude vs. Temperature Plot"
   ]
  },
  {
   "cell_type": "code",
   "execution_count": 20,
   "metadata": {
    "scrolled": true
   },
   "outputs": [
    {
     "data": {
      "text/plain": [
       "<Figure size 432x288 with 0 Axes>"
      ]
     },
     "metadata": {},
     "output_type": "display_data"
    },
    {
     "data": {
      "image/png": "[encoded data removed]",
      "text/plain": [
       "<Figure size 432x288 with 1 Axes>"
      ]
     },
     "metadata": {
      "needs_background": "light"
     },
     "output_type": "display_data"
    }
   ],
   "source": [
    "plt.figure(facecolor=(1, 1, 1))\n",
    "fig = plt.figure()\n",
    "fig.patch.set_facecolor\n",
    "plt.scatter(clean_city_data[\"Lat\"],clean_city_data[\"Max Temp\"] )\n",
    "plt.title(\"City Latitude vs Max Temperature\")\n",
    "plt.ylabel(\"Max Temprature\")\n",
    "plt.xlabel(\"Latitude\")\n",
    "plt.grid (b=True,which=\"major\",axis=\"both\",linestyle=\"-\",color=\"red\")"
   ]
  },
  {
   "cell_type": "markdown",
   "metadata": {},
   "source": [
    "## Latitude vs. Humidity Plot"
   ]
  },
  {
   "cell_type": "code",
   "execution_count": 22,
   "metadata": {},
   "outputs": [
    {
     "data": {
      "text/plain": [
       "<Figure size 432x288 with 0 Axes>"
      ]
     },
     "metadata": {},
     "output_type": "display_data"
    },
    {
     "data": {
      "image/png": "[encoded data removed]",
      "text/plain": [
       "<Figure size 432x288 with 1 Axes>"
      ]
     },
     "metadata": {
      "needs_background": "light"
     },
     "output_type": "display_data"
    }
   ],
   "source": [
    "plt.figure(facecolor=(1, 1, 1))\n",
    "fig = plt.figure()\n",
    "fig.patch.set_facecolor\n",
    "plt.scatter(clean_city_data[\"Lat\"],clean_city_data[\"Humidity\"] )\n",
    "plt.title(\"City Latitude vs Humidity\")\n",
    "plt.ylabel(\"Humidity\")\n",
    "plt.xlabel(\"Latitude\")\n",
    "plt.grid (b=True,which=\"major\",axis=\"both\",linestyle=\"-\",color=\"red\")"
   ]
  },
  {
   "cell_type": "markdown",
   "metadata": {},
   "source": [
    "## Latitude vs. Cloudiness Plot"
   ]
  },
  {
   "cell_type": "code",
   "execution_count": 25,
   "metadata": {},
   "outputs": [
    {
     "data": {
      "text/plain": [
       "<Figure size 432x288 with 0 Axes>"
      ]
     },
     "metadata": {},
     "output_type": "display_data"
    },
    {
     "data": {
      "image/png": "[encoded data removed]",
      "text/plain": [
       "<Figure size 432x288 with 1 Axes>"
      ]
     },
     "metadata": {
      "needs_background": "light"
     },
     "output_type": "display_data"
    }
   ],
   "source": [
    "plt.figure(facecolor=(1, 1, 1))\n",
    "fig = plt.figure()\n",
    "fig.patch.set_facecolor\n",
    "plt.scatter(clean_city_data[\"Lat\"],clean_city_data[\"Cloudiness\"] )\n",
    "plt.title(\"City Latitude vs Cloudiness\")\n",
    "plt.ylabel(\"Cloudiness\")\n",
    "plt.xlabel(\"Latitude\")\n",
    "plt.grid (b=True,which=\"major\",axis=\"both\",linestyle=\"-\",color=\"red\")"
   ]
  },
  {
   "cell_type": "markdown",
   "metadata": {},
   "source": [
    "## Latitude vs. Wind Speed Plot"
   ]
  },
  {
   "cell_type": "code",
   "execution_count": 28,
   "metadata": {},
   "outputs": [
    {
     "data": {
      "text/plain": [
       "<Figure size 432x288 with 0 Axes>"
      ]
     },
     "metadata": {},
     "output_type": "display_data"
    },
    {
     "data": {
      "image/png": "[encoded data removed]",
      "text/plain": [
       "<Figure size 432x288 with 1 Axes>"
      ]
     },
     "metadata": {
      "needs_background": "light"
     },
     "output_type": "display_data"
    }
   ],
   "source": [
    "plt.figure(facecolor=(1, 1, 1))\n",
    "fig = plt.figure()\n",
    "fig.patch.set_facecolor\n",
    "plt.scatter(clean_city_data[\"Lat\"],clean_city_data[\"Wind Speed\"] )\n",
    "plt.title(\"City Latitude vs Wind Speed\")\n",
    "plt.ylabel(\"Wind Speed\")\n",
    "plt.xlabel(\"Latitude\")\n",
    "plt.grid (b=True,which=\"major\",axis=\"both\",linestyle=\"-\",color=\"red\")"
   ]
  },
  {
   "cell_type": "markdown",
   "metadata": {},
   "source": [
    "## Linear Regression"
   ]
  },
  {
   "cell_type": "code",
   "execution_count": 63,
   "metadata": {},
   "outputs": [],
   "source": [
    "#North\n",
    "northern_hem = clean_city_data.loc[clean_city_data['Lat'] > 0]\n",
    "\n",
    "def max_temp(x_values,y_values):\n",
    "\n",
    "    # Perform a linear regression on temperature vs. latitude\n",
    "    (slope, intercept, rvalue, pvalue, stderr) = stats.linregress(x_values, y_values)\n",
    "\n",
    "    # Get regression values\n",
    "    regress_values = x_values * slope + intercept\n",
    "    print(regress_values)\n",
    "    \n",
    "    # Create line equation string\n",
    "    line_eq = \"y = \" + str(round(slope,2)) + \"x +\" + str(round(intercept,2))\n",
    "    print(line_eq)\n",
    "\n",
    "    \n",
    "    # Create Plot\n",
    "    plt.scatter(x_values,y_values)\n",
    "    plt.plot(x_values,regress_values,\"r-\")\n",
    "\n",
    "    # Label plot and annotate the line equation\n",
    "    plt.xlabel('Latitude')\n",
    "    plt.ylabel('Max Temp')\n",
    "    plt.annotate(line_eq,(20,15),fontsize=15,color=\"red\")\n",
    "\n",
    "    # Print r value\n",
    "    print(f\"The r-value is: {rvalue**2}\")\n",
    "\n",
    "    # Show plot\n",
    "    plt.show()"
   ]
  },
  {
   "cell_type": "code",
   "execution_count": 64,
   "metadata": {},
   "outputs": [],
   "source": [
    "# South\n",
    "\n",
    "southern_hem = clean_city_data.loc[clean_city_data['Lat'] < 0]\n",
    "\n",
    "def max_temp(x_values,y_values):\n",
    "\n",
    "    # Perform a linear regression on temperature vs. latitude\n",
    "    (slope, intercept, rvalue, pvalue, stderr) = stats.linregress(x_values, y_values)\n",
    "\n",
    "    # Get regression values\n",
    "    regress_values = x_values * slope + intercept\n",
    "    print(regress_values)\n",
    "    \n",
    "    # Create line equation string\n",
    "    line_eq = \"y = \" + str(round(slope,2)) + \"x +\" + str(round(intercept,2))\n",
    "    print(line_eq)\n",
    "\n",
    "    \n",
    "    # Create Plot\n",
    "    plt.scatter(x_values,y_values)\n",
    "    plt.plot(x_values,regress_values,\"r-\")\n",
    "\n",
    "    # Label plot and annotate the line equation\n",
    "    plt.xlabel('Latitude')\n",
    "    plt.ylabel('Max Temp')\n",
    "    plt.annotate(line_eq,(20,15),fontsize=15,color=\"red\")\n",
    "\n",
    "    # Print r value\n",
    "    print(f\"The r-value is: {rvalue**2}\")\n",
    "\n",
    "    # Show plot\n",
    "    plt.show()"
   ]
  },
  {
   "cell_type": "markdown",
   "metadata": {},
   "source": [
    "####  Northern Hemisphere - Max Temp vs. Latitude Linear Regression"
   ]
  },
  {
   "cell_type": "code",
   "execution_count": 65,
   "metadata": {},
   "outputs": [
    {
     "name": "stdout",
     "output_type": "stream",
     "text": [
      "1      73.701642\n",
      "3     -16.164074\n",
      "6      90.680931\n",
      "9      26.729400\n",
      "11     33.923350\n",
      "         ...    \n",
      "577    -4.293619\n",
      "578    36.042925\n",
      "579     5.742991\n",
      "582    86.953511\n",
      "583    27.344367\n",
      "Name: Lat, Length: 385, dtype: float64\n",
      "y = -1.44x +95.09\n",
      "The r-value is: 0.744285900865422\n"
     ]
    },
    {
     "data": {
      "image/png": "[encoded data removed]",
      "text/plain": [
       "<Figure size 432x288 with 1 Axes>"
      ]
     },
     "metadata": {
      "needs_background": "light"
     },
     "output_type": "display_data"
    }
   ],
   "source": [
    "# Northern Hemisphere - Max Temp vs. Latitude Linear Regression\n",
    "x_values = northern_hem[\"Lat\"]\n",
    "y_values = northern_hem[\"Max Temp\"]\n",
    "max_temp(x_values,y_values)"
   ]
  },
  {
   "cell_type": "markdown",
   "metadata": {},
   "source": [
    "####  Southern Hemisphere - Max Temp vs. Latitude Linear Regression"
   ]
  },
  {
   "cell_type": "code",
   "execution_count": 66,
   "metadata": {},
   "outputs": [
    {
     "name": "stdout",
     "output_type": "stream",
     "text": [
      "0      63.055451\n",
      "2      75.301327\n",
      "4      71.501547\n",
      "5      76.022808\n",
      "7      66.197270\n",
      "         ...    \n",
      "566    75.038393\n",
      "568    77.327027\n",
      "569    83.070721\n",
      "580    83.137264\n",
      "581    76.117937\n",
      "Name: Lat, Length: 183, dtype: float64\n",
      "y = 0.43x +86.01\n",
      "The r-value is: 0.30059279562138463\n"
     ]
    },
    {
     "data": {
      "image/png": "[encoded data removed]",
      "text/plain": [
       "<Figure size 432x288 with 1 Axes>"
      ]
     },
     "metadata": {
      "needs_background": "light"
     },
     "output_type": "display_data"
    }
   ],
   "source": [
    "x_values = southern_hem[\"Lat\"]\n",
    "y_values = southern_hem[\"Max Temp\"]\n",
    "max_temp(x_values,y_values)"
   ]
  },
  {
   "cell_type": "markdown",
   "metadata": {},
   "source": [
    "####  Northern Hemisphere - Humidity (%) vs. Latitude Linear Regression"
   ]
  },
  {
   "cell_type": "code",
   "execution_count": 67,
   "metadata": {},
   "outputs": [
    {
     "name": "stdout",
     "output_type": "stream",
     "text": [
      "1      62.431515\n",
      "3      87.454445\n",
      "6      57.703666\n",
      "9      75.510842\n",
      "11     73.507701\n",
      "         ...    \n",
      "577    84.149140\n",
      "578    72.917510\n",
      "579    81.354466\n",
      "582    58.741558\n",
      "583    75.339606\n",
      "Name: Lat, Length: 385, dtype: float64\n",
      "y = 0.4x +56.48\n",
      "The r-value is: 0.148583377206809\n"
     ]
    },
    {
     "data": {
      "image/png": "[encoded data removed]",
      "text/plain": [
       "<Figure size 432x288 with 1 Axes>"
      ]
     },
     "metadata": {
      "needs_background": "light"
     },
     "output_type": "display_data"
    }
   ],
   "source": [
    "x_values = northern_hem[\"Lat\"]\n",
    "y_values = northern_hem[\"Humidity\"]\n",
    "max_temp(x_values,y_values)"
   ]
  },
  {
   "cell_type": "markdown",
   "metadata": {},
   "source": [
    "####  Southern Hemisphere - Humidity (%) vs. Latitude Linear Regression"
   ]
  },
  {
   "cell_type": "code",
   "execution_count": 68,
   "metadata": {},
   "outputs": [
    {
     "name": "stdout",
     "output_type": "stream",
     "text": [
      "0      60.252180\n",
      "2      66.653612\n",
      "4      64.667308\n",
      "5      67.030761\n",
      "7      61.894541\n",
      "         ...    \n",
      "566    66.516166\n",
      "568    67.712531\n",
      "569    70.715000\n",
      "580    70.749785\n",
      "581    67.080489\n",
      "Name: Lat, Length: 183, dtype: float64\n",
      "y = 0.23x +72.25\n",
      "The r-value is: 0.02524330780799046\n"
     ]
    },
    {
     "data": {
      "image/png": "[encoded data removed]",
      "text/plain": [
       "<Figure size 432x288 with 1 Axes>"
      ]
     },
     "metadata": {
      "needs_background": "light"
     },
     "output_type": "display_data"
    }
   ],
   "source": [
    "x_values = southern_hem[\"Lat\"]\n",
    "y_values = southern_hem[\"Humidity\"]\n",
    "max_temp(x_values,y_values)"
   ]
  },
  {
   "cell_type": "markdown",
   "metadata": {},
   "source": [
    "####  Northern Hemisphere - Cloudiness (%) vs. Latitude Linear Regression"
   ]
  },
  {
   "cell_type": "code",
   "execution_count": 69,
   "metadata": {},
   "outputs": [
    {
     "name": "stdout",
     "output_type": "stream",
     "text": [
      "1      49.201470\n",
      "3      59.026821\n",
      "6      47.345062\n",
      "9      54.337119\n",
      "11     53.550578\n",
      "         ...    \n",
      "577    57.728980\n",
      "578    53.318837\n",
      "579    56.631641\n",
      "582    47.752595\n",
      "583    54.269883\n",
      "Name: Lat, Length: 385, dtype: float64\n",
      "y = 0.16x +46.86\n",
      "The r-value is: 0.006102818010584247\n"
     ]
    },
    {
     "data": {
      "image/png": "[encoded data removed]",
      "text/plain": [
       "<Figure size 432x288 with 1 Axes>"
      ]
     },
     "metadata": {
      "needs_background": "light"
     },
     "output_type": "display_data"
    }
   ],
   "source": [
    "x_values = northern_hem[\"Lat\"]\n",
    "y_values = northern_hem[\"Cloudiness\"]\n",
    "max_temp(x_values,y_values)"
   ]
  },
  {
   "cell_type": "markdown",
   "metadata": {},
   "source": [
    "####  Southern Hemisphere - Cloudiness (%) vs. Latitude Linear Regression"
   ]
  },
  {
   "cell_type": "code",
   "execution_count": 70,
   "metadata": {},
   "outputs": [
    {
     "name": "stdout",
     "output_type": "stream",
     "text": [
      "0      31.804266\n",
      "2      53.019627\n",
      "4      46.436700\n",
      "5      54.269556\n",
      "7      37.247309\n",
      "         ...    \n",
      "566    52.564107\n",
      "568    56.529050\n",
      "569    66.479709\n",
      "580    66.594992\n",
      "581    54.434363\n",
      "Name: Lat, Length: 183, dtype: float64\n",
      "y = 0.75x +71.57\n",
      "The r-value is: 0.06823603157032776\n"
     ]
    },
    {
     "data": {
      "image/png": "[encoded data removed]",
      "text/plain": [
       "<Figure size 432x288 with 1 Axes>"
      ]
     },
     "metadata": {
      "needs_background": "light"
     },
     "output_type": "display_data"
    }
   ],
   "source": [
    "x_values = southern_hem[\"Lat\"]\n",
    "y_values = southern_hem[\"Cloudiness\"]\n",
    "max_temp(x_values,y_values)"
   ]
  },
  {
   "cell_type": "markdown",
   "metadata": {},
   "source": [
    "####  Northern Hemisphere - Wind Speed (mph) vs. Latitude Linear Regression"
   ]
  },
  {
   "cell_type": "code",
   "execution_count": 71,
   "metadata": {},
   "outputs": [
    {
     "name": "stdout",
     "output_type": "stream",
     "text": [
      "1      7.931822\n",
      "3      8.087948\n",
      "6      7.902324\n",
      "9      8.013428\n",
      "11     8.000930\n",
      "         ...   \n",
      "577    8.067326\n",
      "578    7.997248\n",
      "579    8.049889\n",
      "582    7.908799\n",
      "583    8.012360\n",
      "Name: Lat, Length: 385, dtype: float64\n",
      "y = 0.0x +7.89\n",
      "The r-value is: 6.190323457133369e-05\n"
     ]
    },
    {
     "data": {
      "image/png": "[encoded data removed]",
      "text/plain": [
       "<Figure size 432x288 with 1 Axes>"
      ]
     },
     "metadata": {
      "needs_background": "light"
     },
     "output_type": "display_data"
    }
   ],
   "source": [
    "x_values = northern_hem[\"Lat\"]\n",
    "y_values = northern_hem[\"Wind Speed\"]\n",
    "max_temp(x_values,y_values)"
   ]
  },
  {
   "cell_type": "markdown",
   "metadata": {},
   "source": [
    "####  Southern Hemisphere - Wind Speed (mph) vs. Latitude Linear Regression"
   ]
  },
  {
   "cell_type": "code",
   "execution_count": 72,
   "metadata": {},
   "outputs": [
    {
     "name": "stdout",
     "output_type": "stream",
     "text": [
      "0      9.824496\n",
      "2      8.318731\n",
      "4      8.785956\n",
      "5      8.230017\n",
      "7      9.438175\n",
      "         ...   \n",
      "566    8.351062\n",
      "568    8.069649\n",
      "569    7.363399\n",
      "580    7.355216\n",
      "581    8.218320\n",
      "Name: Lat, Length: 183, dtype: float64\n",
      "y = -0.05x +7.0\n",
      "The r-value is: 0.016826560982828274\n"
     ]
    },
    {
     "data": {
      "image/png": "[encoded data removed]",
      "text/plain": [
       "<Figure size 432x288 with 1 Axes>"
      ]
     },
     "metadata": {
      "needs_background": "light"
     },
     "output_type": "display_data"
    }
   ],
   "source": [
    "x_values = southern_hem[\"Lat\"]\n",
    "y_values = southern_hem[\"Wind Speed\"]\n",
    "max_temp(x_values,y_values)"
   ]
  },
  {
   "cell_type": "code",
   "execution_count": null,
   "metadata": {},
   "outputs": [],
   "source": []
  }
 ],
 "metadata": {
  "anaconda-cloud": {},
  "kernel_info": {
   "name": "python3"
  },
  "kernelspec": {
   "display_name": "Python [conda env:PythonData] *",
   "language": "python",
   "name": "conda-env-PythonData-py"
  },
  "language_info": {
   "codemirror_mode": {
    "name": "ipython",
    "version": 3
   },
   "file_extension": ".py",
   "mimetype": "text/x-python",
   "name": "python",
   "nbconvert_exporter": "python",
   "pygments_lexer": "ipython3",
   "version": "3.6.12"
  },
  "latex_envs": {
   "LaTeX_envs_menu_present": true,
   "autoclose": false,
   "autocomplete": true,
   "bibliofile": "biblio.bib",
   "cite_by": "apalike",
   "current_citInitial": 1,
   "eqLabelWithNumbers": true,
   "eqNumInitial": 1,
   "hotkeys": {
    "equation": "Ctrl-E",
    "itemize": "Ctrl-I"
   },
   "labels_anchors": false,
   "latex_user_defs": false,
   "report_style_numbering": false,
   "user_envs_cfg": false
  },
  "nteract": {
   "version": "0.12.3"
  }
 },
 "nbformat": 4,
 "nbformat_minor": 2
}
